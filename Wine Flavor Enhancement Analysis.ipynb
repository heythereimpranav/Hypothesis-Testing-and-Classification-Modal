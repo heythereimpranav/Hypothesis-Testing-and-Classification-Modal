{
 "cells": [
  {
   "cell_type": "markdown",
   "id": "056f689b",
   "metadata": {},
   "source": [
    "# Wine Analysis\n",
    "\n"
   ]
  },
  {
   "cell_type": "code",
   "execution_count": 80,
   "id": "02424272",
   "metadata": {},
   "outputs": [],
   "source": [
    "#Importing libraries\n",
    "import pandas as pd\n",
    "import numpy as np\n",
    "from sklearn.model_selection import train_test_split\n",
    "from sklearn.metrics import accuracy_score, mean_squared_error\n",
    "from sklearn.naive_bayes import GaussianNB\n",
    "from sklearn.ensemble import RandomForestClassifier\n",
    "from sklearn.preprocessing import LabelEncoder\n",
    "from sklearn.metrics import classification_report\n",
    "from scipy.stats import ttest_ind\n",
    "\n",
    "# Load the data\n",
    "data = pd.read_csv('winequality-red.csv', delimiter=',')"
   ]
  },
  {
   "cell_type": "markdown",
   "id": "b9b9053a",
   "metadata": {},
   "source": [
    "## Data Cleaning"
   ]
  },
  {
   "cell_type": "code",
   "execution_count": 81,
   "id": "ce6a9311",
   "metadata": {},
   "outputs": [
    {
     "name": "stdout",
     "output_type": "stream",
     "text": [
      "fixed acidity            0\n",
      "volatile acidity        12\n",
      "citric acid              2\n",
      "residual sugar          25\n",
      "chlorides               12\n",
      "free sulfur dioxide      2\n",
      "total sulfur dioxide     4\n",
      "density                 27\n",
      "pH                       0\n",
      "sulphates                0\n",
      "alcohol                  0\n",
      "quality                  0\n",
      "dtype: int64\n"
     ]
    }
   ],
   "source": [
    "# Check for missing values in dataframe\n",
    "print(data.isnull().sum())"
   ]
  },
  {
   "cell_type": "code",
   "execution_count": 82,
   "id": "341e5c17",
   "metadata": {
    "scrolled": true
   },
   "outputs": [
    {
     "name": "stderr",
     "output_type": "stream",
     "text": [
      "C:\\Users\\PRANAV\\AppData\\Local\\Temp\\ipykernel_7396\\320475290.py:2: FutureWarning: The default value of numeric_only in DataFrame.mean is deprecated. In a future version, it will default to False. In addition, specifying 'numeric_only=None' is deprecated. Select only valid columns or specify the value of numeric_only to silence this warning.\n",
      "  data = data.fillna(data.mean())\n",
      "C:\\Users\\PRANAV\\AppData\\Local\\Temp\\ipykernel_7396\\320475290.py:5: FutureWarning: The default value of numeric_only in DataFrame.median is deprecated. In a future version, it will default to False. In addition, specifying 'numeric_only=None' is deprecated. Select only valid columns or specify the value of numeric_only to silence this warning.\n",
      "  data = data.fillna(data.median())\n"
     ]
    }
   ],
   "source": [
    "# Fill missing values with mean\n",
    "data = data.fillna(data.mean())\n",
    "\n",
    "# Fill missing values with median\n",
    "data = data.fillna(data.median())\n",
    "\n",
    "# Fill missing values with mode\n",
    "data = data.fillna(data.mode().iloc[0])"
   ]
  },
  {
   "cell_type": "code",
   "execution_count": 83,
   "id": "19d0456f",
   "metadata": {},
   "outputs": [
    {
     "data": {
      "text/plain": [
       "232"
      ]
     },
     "execution_count": 83,
     "metadata": {},
     "output_type": "execute_result"
    }
   ],
   "source": [
    "#Checking Dupilcate Records\n",
    "data.duplicated().sum()"
   ]
  },
  {
   "cell_type": "code",
   "execution_count": 84,
   "id": "8971141e",
   "metadata": {},
   "outputs": [
    {
     "data": {
      "text/plain": [
       "0"
      ]
     },
     "execution_count": 84,
     "metadata": {},
     "output_type": "execute_result"
    }
   ],
   "source": [
    "# Removing Duplicate Records\n",
    "data.drop_duplicates(keep = 'first', inplace = True, ignore_index = True)\n",
    "data.duplicated().sum()"
   ]
  },
  {
   "cell_type": "code",
   "execution_count": 85,
   "id": "e29af905",
   "metadata": {
    "scrolled": true
   },
   "outputs": [
    {
     "data": {
      "text/plain": [
       "fixed acidity           float64\n",
       "volatile acidity        float64\n",
       "citric acid             float64\n",
       "residual sugar          float64\n",
       "chlorides               float64\n",
       "free sulfur dioxide     float64\n",
       "total sulfur dioxide    float64\n",
       "density                 float64\n",
       "pH                      float64\n",
       "sulphates               float64\n",
       "alcohol                 float64\n",
       "quality                  object\n",
       "dtype: object"
      ]
     },
     "execution_count": 85,
     "metadata": {},
     "output_type": "execute_result"
    }
   ],
   "source": [
    "data.dtypes"
   ]
  },
  {
   "cell_type": "code",
   "execution_count": 86,
   "id": "663ab45b",
   "metadata": {},
   "outputs": [
    {
     "name": "stdout",
     "output_type": "stream",
     "text": [
      "['Average' 'Below Average' 'Poor' 'Good' 'Very Poor' 'Excellent']\n"
     ]
    }
   ],
   "source": [
    "unique_values = data['quality'].unique()\n",
    "print(unique_values)"
   ]
  },
  {
   "cell_type": "code",
   "execution_count": 87,
   "id": "757c87d3",
   "metadata": {},
   "outputs": [],
   "source": [
    "# Map quality values to numeric values\n",
    "quality_map = {'Excellent': 8, 'Good': 7, 'Average': 6,\n",
    "               'Below Average': 5, 'Poor': 4, 'Very Poor': 3}\n",
    "data['quality'] = data['quality'].map(quality_map)"
   ]
  },
  {
   "cell_type": "code",
   "execution_count": 88,
   "id": "4192e46c",
   "metadata": {},
   "outputs": [
    {
     "name": "stdout",
     "output_type": "stream",
     "text": [
      "[6 5 4 7 3 8]\n"
     ]
    },
    {
     "data": {
      "text/html": [
       "<div>\n",
       "<style scoped>\n",
       "    .dataframe tbody tr th:only-of-type {\n",
       "        vertical-align: middle;\n",
       "    }\n",
       "\n",
       "    .dataframe tbody tr th {\n",
       "        vertical-align: top;\n",
       "    }\n",
       "\n",
       "    .dataframe thead th {\n",
       "        text-align: right;\n",
       "    }\n",
       "</style>\n",
       "<table border=\"1\" class=\"dataframe\">\n",
       "  <thead>\n",
       "    <tr style=\"text-align: right;\">\n",
       "      <th></th>\n",
       "      <th>fixed acidity</th>\n",
       "      <th>volatile acidity</th>\n",
       "      <th>citric acid</th>\n",
       "      <th>residual sugar</th>\n",
       "      <th>chlorides</th>\n",
       "      <th>free sulfur dioxide</th>\n",
       "      <th>total sulfur dioxide</th>\n",
       "      <th>density</th>\n",
       "      <th>pH</th>\n",
       "      <th>sulphates</th>\n",
       "      <th>alcohol</th>\n",
       "      <th>quality</th>\n",
       "    </tr>\n",
       "  </thead>\n",
       "  <tbody>\n",
       "    <tr>\n",
       "      <th>0</th>\n",
       "      <td>7.4</td>\n",
       "      <td>0.70</td>\n",
       "      <td>0.00</td>\n",
       "      <td>1.9</td>\n",
       "      <td>0.076</td>\n",
       "      <td>11.0</td>\n",
       "      <td>34.0</td>\n",
       "      <td>0.9978</td>\n",
       "      <td>3.51</td>\n",
       "      <td>0.56</td>\n",
       "      <td>9.4</td>\n",
       "      <td>6</td>\n",
       "    </tr>\n",
       "    <tr>\n",
       "      <th>1</th>\n",
       "      <td>7.8</td>\n",
       "      <td>0.88</td>\n",
       "      <td>0.00</td>\n",
       "      <td>2.6</td>\n",
       "      <td>0.098</td>\n",
       "      <td>25.0</td>\n",
       "      <td>67.0</td>\n",
       "      <td>0.9968</td>\n",
       "      <td>3.20</td>\n",
       "      <td>0.68</td>\n",
       "      <td>9.8</td>\n",
       "      <td>6</td>\n",
       "    </tr>\n",
       "    <tr>\n",
       "      <th>2</th>\n",
       "      <td>7.8</td>\n",
       "      <td>0.76</td>\n",
       "      <td>0.04</td>\n",
       "      <td>2.3</td>\n",
       "      <td>0.092</td>\n",
       "      <td>15.0</td>\n",
       "      <td>54.0</td>\n",
       "      <td>0.9970</td>\n",
       "      <td>3.26</td>\n",
       "      <td>0.65</td>\n",
       "      <td>9.8</td>\n",
       "      <td>6</td>\n",
       "    </tr>\n",
       "    <tr>\n",
       "      <th>3</th>\n",
       "      <td>11.2</td>\n",
       "      <td>0.28</td>\n",
       "      <td>0.56</td>\n",
       "      <td>1.9</td>\n",
       "      <td>0.075</td>\n",
       "      <td>17.0</td>\n",
       "      <td>60.0</td>\n",
       "      <td>0.9980</td>\n",
       "      <td>3.16</td>\n",
       "      <td>0.58</td>\n",
       "      <td>9.8</td>\n",
       "      <td>5</td>\n",
       "    </tr>\n",
       "    <tr>\n",
       "      <th>4</th>\n",
       "      <td>7.4</td>\n",
       "      <td>0.66</td>\n",
       "      <td>0.00</td>\n",
       "      <td>1.8</td>\n",
       "      <td>0.075</td>\n",
       "      <td>13.0</td>\n",
       "      <td>40.0</td>\n",
       "      <td>0.9978</td>\n",
       "      <td>3.51</td>\n",
       "      <td>0.56</td>\n",
       "      <td>9.4</td>\n",
       "      <td>6</td>\n",
       "    </tr>\n",
       "  </tbody>\n",
       "</table>\n",
       "</div>"
      ],
      "text/plain": [
       "   fixed acidity  volatile acidity  citric acid  residual sugar  chlorides  \\\n",
       "0            7.4              0.70         0.00             1.9      0.076   \n",
       "1            7.8              0.88         0.00             2.6      0.098   \n",
       "2            7.8              0.76         0.04             2.3      0.092   \n",
       "3           11.2              0.28         0.56             1.9      0.075   \n",
       "4            7.4              0.66         0.00             1.8      0.075   \n",
       "\n",
       "   free sulfur dioxide  total sulfur dioxide  density    pH  sulphates  \\\n",
       "0                 11.0                  34.0   0.9978  3.51       0.56   \n",
       "1                 25.0                  67.0   0.9968  3.20       0.68   \n",
       "2                 15.0                  54.0   0.9970  3.26       0.65   \n",
       "3                 17.0                  60.0   0.9980  3.16       0.58   \n",
       "4                 13.0                  40.0   0.9978  3.51       0.56   \n",
       "\n",
       "   alcohol  quality  \n",
       "0      9.4        6  \n",
       "1      9.8        6  \n",
       "2      9.8        6  \n",
       "3      9.8        5  \n",
       "4      9.4        6  "
      ]
     },
     "execution_count": 88,
     "metadata": {},
     "output_type": "execute_result"
    }
   ],
   "source": [
    "unique_values = data['quality'].unique()\n",
    "print(unique_values)\n",
    "data.head()"
   ]
  },
  {
   "cell_type": "markdown",
   "id": "49486665",
   "metadata": {},
   "source": [
    "# Classification Model 1: Naive Bayes"
   ]
  },
  {
   "cell_type": "code",
   "execution_count": 89,
   "id": "9762bf4e",
   "metadata": {},
   "outputs": [
    {
     "name": "stdout",
     "output_type": "stream",
     "text": [
      "Accuracy: 0.45255474452554745\n",
      "Mean Squared Error (MSE): 1.0547445255474452\n",
      "Root Mean Squared Error (RMSE): 1.0270075586613008\n"
     ]
    }
   ],
   "source": [
    "# Define our features (X) and target variable (y)\n",
    "X = data.drop('quality', axis=1)\n",
    "y = data['quality']\n",
    "\n",
    "# Split our data into training and testing sets\n",
    "X_train, X_test, y_train, y_test = train_test_split(X, y, test_size=0.2, random_state=42)\n",
    "\n",
    "# Create a Gaussian Naive Bayes classifier\n",
    "gnb = GaussianNB()\n",
    "\n",
    "# Train our classifier on the training data\n",
    "gnb.fit(X_train, y_train)\n",
    "\n",
    "# Make predictions on the testing data\n",
    "y_pred = gnb.predict(X_test)\n",
    "\n",
    "\n",
    "# Calculate the accuracy of our model\n",
    "accuracy = accuracy_score(y_test, y_pred)\n",
    "print('Accuracy:', accuracy)\n",
    "\n",
    "# Calculate Mean Squared Error (MSE)\n",
    "mse = mean_squared_error(y_test, y_pred)\n",
    "print('Mean Squared Error (MSE):', mse)\n",
    "\n",
    "# Calculate Root Mean Squared Error (RMSE)\n",
    "rmse = np.sqrt(mse)\n",
    "\n",
    "print('Root Mean Squared Error (RMSE):', rmse)"
   ]
  },
  {
   "cell_type": "markdown",
   "id": "4f1d97e4",
   "metadata": {},
   "source": [
    "# Classification Model 2 : Random Forest"
   ]
  },
  {
   "cell_type": "code",
   "execution_count": 90,
   "id": "2769ea9d",
   "metadata": {
    "scrolled": true
   },
   "outputs": [
    {
     "name": "stdout",
     "output_type": "stream",
     "text": [
      "Random Forest Accuracy: 0.6240875912408759\n",
      "Random Forest MSE: 0.48175182481751827\n",
      "Random Forest RMSE: 0.6940834422585791\n"
     ]
    }
   ],
   "source": [
    "\n",
    "\n",
    "# Train a Random Forest classifier\n",
    "rf = RandomForestClassifier(n_estimators=100, random_state=42)\n",
    "rf.fit(X_train, y_train)\n",
    "\n",
    "# Make predictions\n",
    "y_pred_rf = rf.predict(X_test)\n",
    "\n",
    "# Calculate accuracy\n",
    "accuracy_rf = accuracy_score(y_test, y_pred_rf)\n",
    "print('Random Forest Accuracy:', accuracy_rf)\n",
    "\n",
    "# Calculate MSE and RMSE\n",
    "mse_rf = mean_squared_error(y_test, y_pred_rf)\n",
    "print('Random Forest MSE:', mse_rf)\n",
    "rmse_rf = mean_squared_error(y_test, y_pred_rf, squared=False)\n",
    "print('Random Forest RMSE:', rmse_rf)\n"
   ]
  },
  {
   "cell_type": "code",
   "execution_count": 91,
   "id": "d03f2c6a",
   "metadata": {},
   "outputs": [
    {
     "name": "stdout",
     "output_type": "stream",
     "text": [
      "Feature Importance: [0.07604659 0.10334015 0.07066846 0.07316718 0.07868406 0.0693764\n",
      " 0.1035735  0.09179205 0.07669507 0.10746551 0.14919103]\n"
     ]
    }
   ],
   "source": [
    "# Get feature importance from random forest modal\n",
    "feature_importance = rf.feature_importances_\n",
    "print(\"Feature Importance:\", feature_importance)"
   ]
  },
  {
   "cell_type": "code",
   "execution_count": 92,
   "id": "23add449",
   "metadata": {},
   "outputs": [
    {
     "data": {
      "text/plain": [
       "Index(['fixed acidity', 'volatile acidity', 'citric acid', 'residual sugar',\n",
       "       'chlorides', 'free sulfur dioxide', 'total sulfur dioxide', 'density',\n",
       "       'pH', 'sulphates', 'alcohol', 'quality'],\n",
       "      dtype='object')"
      ]
     },
     "execution_count": 92,
     "metadata": {},
     "output_type": "execute_result"
    }
   ],
   "source": [
    "data.columns"
   ]
  },
  {
   "cell_type": "markdown",
   "id": "62d83e4b",
   "metadata": {},
   "source": [
    "# Hypothesis Testing "
   ]
  },
  {
   "cell_type": "raw",
   "id": "bca437ae",
   "metadata": {},
   "source": [
    "The hypothesis testing statement for the wine quality dataset:\n",
    "\n",
    "Null Hypothesis (H0): There is no significant difference in the mean alcohol content between wines of different quality levels.\n",
    "\n",
    "Alternative Hypothesis (H1): There is a significant difference in the mean alcohol content between wines of different quality levels.\n",
    "\n",
    "This hypothesis testing statement aims to investigate whether the alcohol content has a statistically significant impact on the quality of wine. The null hypothesis suggests that there is no difference, while the alternative hypothesis suggests that there is a difference in the mean alcohol content among wines of different quality levels."
   ]
  },
  {
   "cell_type": "code",
   "execution_count": 93,
   "id": "22efb579",
   "metadata": {},
   "outputs": [],
   "source": [
    "# Separate the features from the target variable\n",
    "features = data.drop('quality', axis=1)\n",
    "target = data['quality']\n",
    "\n",
    "# Split the data into a training set and a testing set\n",
    "features_train, features_test, target_train, target_test = train_test_split(features, target, test_size=0.2, random_state=42)"
   ]
  },
  {
   "cell_type": "code",
   "execution_count": 94,
   "id": "360f9064",
   "metadata": {},
   "outputs": [
    {
     "name": "stdout",
     "output_type": "stream",
     "text": [
      "T-statistic: 122.01522130357249, p-value: 0.0\n",
      "Reject the null hypothesis.\n",
      "There is a significant relationship between the alcohol and quality variables.\n"
     ]
    }
   ],
   "source": [
    "\n",
    "from scipy.stats import ttest_ind\n",
    "\n",
    "# Perform the t-test\n",
    "t_statistic, p_value = ttest_ind(features_train['alcohol'], target_train)\n",
    "\n",
    "# Print the results of the t-test\n",
    "print(f\"T-statistic: {t_statistic}, p-value: {p_value}\")\n",
    "\n",
    "# Define the significance level (alpha)\n",
    "alpha = 0.05\n",
    "\n",
    "# Check if the p-value is less than the significance level\n",
    "if p_value < alpha:\n",
    "    print(\"Reject the null hypothesis.\")\n",
    "    print(\"There is a significant relationship between the alcohol and quality variables.\")\n",
    "else:\n",
    "    print(\"Fail to reject the null hypothesis.\")\n",
    "    print(\"There is no significant relationship between the alcohol and quality variables.\")\n"
   ]
  },
  {
   "cell_type": "code",
   "execution_count": null,
   "id": "bf0c745b",
   "metadata": {},
   "outputs": [],
   "source": []
  },
  {
   "cell_type": "code",
   "execution_count": null,
   "id": "6cc37061",
   "metadata": {},
   "outputs": [],
   "source": []
  }
 ],
 "metadata": {
  "kernelspec": {
   "display_name": "Python 3 (ipykernel)",
   "language": "python",
   "name": "python3"
  },
  "language_info": {
   "codemirror_mode": {
    "name": "ipython",
    "version": 3
   },
   "file_extension": ".py",
   "mimetype": "text/x-python",
   "name": "python",
   "nbconvert_exporter": "python",
   "pygments_lexer": "ipython3",
   "version": "3.11.4"
  }
 },
 "nbformat": 4,
 "nbformat_minor": 5
}
